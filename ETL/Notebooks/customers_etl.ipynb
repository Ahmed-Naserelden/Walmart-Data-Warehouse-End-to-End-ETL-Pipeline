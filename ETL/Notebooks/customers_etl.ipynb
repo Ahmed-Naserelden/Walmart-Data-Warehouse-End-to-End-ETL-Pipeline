{
 "cells": [
  {
   "cell_type": "code",
   "execution_count": 1,
   "metadata": {},
   "outputs": [],
   "source": [
    "import os\n",
    "import logging\n",
    "import pandas as pd\n",
    "import mysql.connector"
   ]
  },
  {
   "cell_type": "code",
   "execution_count": 11,
   "metadata": {},
   "outputs": [
    {
     "name": "stdout",
     "output_type": "stream",
     "text": [
      "Connected to MySQL successfully!\n"
     ]
    }
   ],
   "source": [
    "MYSQL_USERNAME=os.environ['MYSQL_USERNAME']\n",
    "MYSQL_PASSWORD=os.environ['MYSQL_PASSWORD']\n",
    "MYSQL_DATABASE=os.environ['MYSQL_DATABASE']\n",
    "MYSQL_HOST=os.environ['MYSQL_HOST']\n",
    "\n",
    "try:\n",
    "    # Establish connection\n",
    "    conn = mysql.connector.connect(\n",
    "        host=MYSQL_HOST,  # Change to your MySQL server\n",
    "        user=MYSQL_USERNAME,\n",
    "        password=MYSQL_PASSWORD,\n",
    "        database=MYSQL_DATABASE  # Optional: specify database\n",
    "    )\n",
    "\n",
    "    if conn.is_connected():\n",
    "        print(\"Connected to MySQL successfully!\")\n",
    "\n",
    "except mysql.connector.Error as e:\n",
    "    print(\"Error:\", e)"
   ]
  },
  {
   "cell_type": "code",
   "execution_count": 12,
   "metadata": {},
   "outputs": [],
   "source": [
    "# Create a cursor object\n",
    "cursor = conn.cursor()"
   ]
  },
  {
   "cell_type": "code",
   "execution_count": 13,
   "metadata": {},
   "outputs": [],
   "source": [
    "def extract(cursor, query):\n",
    "    # Execute a query\n",
    "    cursor.execute(query)\n",
    "    data = cursor.fetchall()\n",
    "    \n",
    "    # Get column names (metadata)\n",
    "    columns = [desc[0] for desc in cursor.description]\n",
    "\n",
    "    # Convert the data into a pandas DataFrame\n",
    "    df = pd.DataFrame(data, columns=columns)\n",
    "    \n",
    "    return df"
   ]
  },
  {
   "cell_type": "code",
   "execution_count": 14,
   "metadata": {},
   "outputs": [],
   "source": [
    "query=\"SELECT * FROM Customer;\"\n",
    "customers_df = extract(cursor, query)"
   ]
  },
  {
   "cell_type": "code",
   "execution_count": 15,
   "metadata": {},
   "outputs": [
    {
     "data": {
      "text/html": [
       "<div>\n",
       "<style scoped>\n",
       "    .dataframe tbody tr th:only-of-type {\n",
       "        vertical-align: middle;\n",
       "    }\n",
       "\n",
       "    .dataframe tbody tr th {\n",
       "        vertical-align: top;\n",
       "    }\n",
       "\n",
       "    .dataframe thead th {\n",
       "        text-align: right;\n",
       "    }\n",
       "</style>\n",
       "<table border=\"1\" class=\"dataframe\">\n",
       "  <thead>\n",
       "    <tr style=\"text-align: right;\">\n",
       "      <th></th>\n",
       "      <th>CustomerID</th>\n",
       "      <th>CustomerName</th>\n",
       "      <th>Phone</th>\n",
       "      <th>Gender</th>\n",
       "      <th>Age</th>\n",
       "      <th>City</th>\n",
       "    </tr>\n",
       "  </thead>\n",
       "  <tbody>\n",
       "    <tr>\n",
       "      <th>0</th>\n",
       "      <td>1</td>\n",
       "      <td>Alice Wilson</td>\n",
       "      <td>555-0001</td>\n",
       "      <td>Female</td>\n",
       "      <td>34</td>\n",
       "      <td>New York</td>\n",
       "    </tr>\n",
       "    <tr>\n",
       "      <th>1</th>\n",
       "      <td>2</td>\n",
       "      <td>David Lee</td>\n",
       "      <td>555-0002</td>\n",
       "      <td>Male</td>\n",
       "      <td>28</td>\n",
       "      <td>Los Angeles</td>\n",
       "    </tr>\n",
       "    <tr>\n",
       "      <th>2</th>\n",
       "      <td>3</td>\n",
       "      <td>Sarah Gonzalez</td>\n",
       "      <td>555-0003</td>\n",
       "      <td>Female</td>\n",
       "      <td>45</td>\n",
       "      <td>Chicago</td>\n",
       "    </tr>\n",
       "    <tr>\n",
       "      <th>3</th>\n",
       "      <td>4</td>\n",
       "      <td>Brian Kim</td>\n",
       "      <td>555-0004</td>\n",
       "      <td>Male</td>\n",
       "      <td>22</td>\n",
       "      <td>Houston</td>\n",
       "    </tr>\n",
       "    <tr>\n",
       "      <th>4</th>\n",
       "      <td>5</td>\n",
       "      <td>Nina Patel</td>\n",
       "      <td>555-0005</td>\n",
       "      <td>Female</td>\n",
       "      <td>30</td>\n",
       "      <td>San Francisco</td>\n",
       "    </tr>\n",
       "    <tr>\n",
       "      <th>5</th>\n",
       "      <td>6</td>\n",
       "      <td>Tom Nguyen</td>\n",
       "      <td>555-0006</td>\n",
       "      <td>Male</td>\n",
       "      <td>40</td>\n",
       "      <td>Miami</td>\n",
       "    </tr>\n",
       "    <tr>\n",
       "      <th>6</th>\n",
       "      <td>7</td>\n",
       "      <td>Jessica Chen</td>\n",
       "      <td>555-0007</td>\n",
       "      <td>Female</td>\n",
       "      <td>29</td>\n",
       "      <td>Seattle</td>\n",
       "    </tr>\n",
       "    <tr>\n",
       "      <th>7</th>\n",
       "      <td>8</td>\n",
       "      <td>Ryan Adams</td>\n",
       "      <td>555-0008</td>\n",
       "      <td>Male</td>\n",
       "      <td>33</td>\n",
       "      <td>Dallas</td>\n",
       "    </tr>\n",
       "    <tr>\n",
       "      <th>8</th>\n",
       "      <td>9</td>\n",
       "      <td>Emma Robinson</td>\n",
       "      <td>555-0009</td>\n",
       "      <td>Female</td>\n",
       "      <td>26</td>\n",
       "      <td>Austin</td>\n",
       "    </tr>\n",
       "    <tr>\n",
       "      <th>9</th>\n",
       "      <td>10</td>\n",
       "      <td>Liam Thompson</td>\n",
       "      <td>555-0010</td>\n",
       "      <td>Male</td>\n",
       "      <td>31</td>\n",
       "      <td>Boston</td>\n",
       "    </tr>\n",
       "    <tr>\n",
       "      <th>10</th>\n",
       "      <td>11</td>\n",
       "      <td>Charlotte Hernandez</td>\n",
       "      <td>555-0011</td>\n",
       "      <td>Female</td>\n",
       "      <td>36</td>\n",
       "      <td>Phoenix</td>\n",
       "    </tr>\n",
       "    <tr>\n",
       "      <th>11</th>\n",
       "      <td>12</td>\n",
       "      <td>Zoe Martin</td>\n",
       "      <td>555-0012</td>\n",
       "      <td>Female</td>\n",
       "      <td>27</td>\n",
       "      <td>Denver</td>\n",
       "    </tr>\n",
       "    <tr>\n",
       "      <th>12</th>\n",
       "      <td>13</td>\n",
       "      <td>Logan Rodriguez</td>\n",
       "      <td>555-0013</td>\n",
       "      <td>Male</td>\n",
       "      <td>44</td>\n",
       "      <td>Atlanta</td>\n",
       "    </tr>\n",
       "    <tr>\n",
       "      <th>13</th>\n",
       "      <td>14</td>\n",
       "      <td>Chloe Torres</td>\n",
       "      <td>555-0014</td>\n",
       "      <td>Female</td>\n",
       "      <td>38</td>\n",
       "      <td>Charlotte</td>\n",
       "    </tr>\n",
       "    <tr>\n",
       "      <th>14</th>\n",
       "      <td>15</td>\n",
       "      <td>Oliver Lee</td>\n",
       "      <td>555-0015</td>\n",
       "      <td>Male</td>\n",
       "      <td>32</td>\n",
       "      <td>San Diego</td>\n",
       "    </tr>\n",
       "    <tr>\n",
       "      <th>15</th>\n",
       "      <td>16</td>\n",
       "      <td>Abigail Lopez</td>\n",
       "      <td>555-0016</td>\n",
       "      <td>Female</td>\n",
       "      <td>29</td>\n",
       "      <td>Philadelphia</td>\n",
       "    </tr>\n",
       "    <tr>\n",
       "      <th>16</th>\n",
       "      <td>17</td>\n",
       "      <td>Lucas Gonzalez</td>\n",
       "      <td>555-0017</td>\n",
       "      <td>Male</td>\n",
       "      <td>24</td>\n",
       "      <td>San Antonio</td>\n",
       "    </tr>\n",
       "    <tr>\n",
       "      <th>17</th>\n",
       "      <td>18</td>\n",
       "      <td>Mason Wright</td>\n",
       "      <td>555-0018</td>\n",
       "      <td>Male</td>\n",
       "      <td>35</td>\n",
       "      <td>San Jose</td>\n",
       "    </tr>\n",
       "    <tr>\n",
       "      <th>18</th>\n",
       "      <td>19</td>\n",
       "      <td>Sophia Hill</td>\n",
       "      <td>555-0019</td>\n",
       "      <td>Female</td>\n",
       "      <td>41</td>\n",
       "      <td>Indianapolis</td>\n",
       "    </tr>\n",
       "    <tr>\n",
       "      <th>19</th>\n",
       "      <td>20</td>\n",
       "      <td>Ethan Campbell</td>\n",
       "      <td>555-0020</td>\n",
       "      <td>Male</td>\n",
       "      <td>29</td>\n",
       "      <td>Jacksonville</td>\n",
       "    </tr>\n",
       "    <tr>\n",
       "      <th>20</th>\n",
       "      <td>21</td>\n",
       "      <td>Customer 100</td>\n",
       "      <td>555-0100</td>\n",
       "      <td>Male</td>\n",
       "      <td>27</td>\n",
       "      <td>Washington</td>\n",
       "    </tr>\n",
       "  </tbody>\n",
       "</table>\n",
       "</div>"
      ],
      "text/plain": [
       "    CustomerID         CustomerName     Phone  Gender  Age           City\n",
       "0            1         Alice Wilson  555-0001  Female   34       New York\n",
       "1            2            David Lee  555-0002    Male   28    Los Angeles\n",
       "2            3       Sarah Gonzalez  555-0003  Female   45        Chicago\n",
       "3            4            Brian Kim  555-0004    Male   22        Houston\n",
       "4            5           Nina Patel  555-0005  Female   30  San Francisco\n",
       "5            6           Tom Nguyen  555-0006    Male   40          Miami\n",
       "6            7         Jessica Chen  555-0007  Female   29        Seattle\n",
       "7            8           Ryan Adams  555-0008    Male   33         Dallas\n",
       "8            9        Emma Robinson  555-0009  Female   26         Austin\n",
       "9           10        Liam Thompson  555-0010    Male   31         Boston\n",
       "10          11  Charlotte Hernandez  555-0011  Female   36        Phoenix\n",
       "11          12           Zoe Martin  555-0012  Female   27         Denver\n",
       "12          13      Logan Rodriguez  555-0013    Male   44        Atlanta\n",
       "13          14         Chloe Torres  555-0014  Female   38      Charlotte\n",
       "14          15           Oliver Lee  555-0015    Male   32      San Diego\n",
       "15          16        Abigail Lopez  555-0016  Female   29   Philadelphia\n",
       "16          17       Lucas Gonzalez  555-0017    Male   24    San Antonio\n",
       "17          18         Mason Wright  555-0018    Male   35       San Jose\n",
       "18          19          Sophia Hill  555-0019  Female   41   Indianapolis\n",
       "19          20       Ethan Campbell  555-0020    Male   29   Jacksonville\n",
       "20          21         Customer 100  555-0100    Male   27     Washington"
      ]
     },
     "execution_count": 15,
     "metadata": {},
     "output_type": "execute_result"
    }
   ],
   "source": [
    "customers_df"
   ]
  },
  {
   "cell_type": "code",
   "execution_count": 16,
   "metadata": {},
   "outputs": [
    {
     "name": "stdout",
     "output_type": "stream",
     "text": [
      "Connection closed.\n"
     ]
    }
   ],
   "source": [
    "# Close the connection\n",
    "cursor.close()\n",
    "conn.close()\n",
    "print(\"Connection closed.\")"
   ]
  },
  {
   "cell_type": "code",
   "execution_count": 17,
   "metadata": {},
   "outputs": [],
   "source": [
    "import psycopg2\n",
    "from psycopg2 import sql"
   ]
  },
  {
   "cell_type": "code",
   "execution_count": 18,
   "metadata": {},
   "outputs": [
    {
     "name": "stdout",
     "output_type": "stream",
     "text": [
      "172.18.0.2 biruni P@ssw0rd walmart_dwh\n"
     ]
    }
   ],
   "source": [
    "PG_USERNAME=os.environ['PG_USERNAME']\n",
    "PG_PASSWORD=os.environ['PG_PASSWORD']\n",
    "PG_DATABASE=os.environ['PG_DATABASE']\n",
    "PG_HOST=os.environ['PG_HOST']\n",
    "\n",
    "print(PG_HOST, PG_USERNAME, PG_PASSWORD, PG_DATABASE)"
   ]
  },
  {
   "cell_type": "code",
   "execution_count": 19,
   "metadata": {},
   "outputs": [],
   "source": [
    "# Database connection parameters\n",
    "db_config = {\n",
    "    'dbname': PG_DATABASE,\n",
    "    'user': PG_USERNAME,\n",
    "    'password': PG_PASSWORD,\n",
    "    'host': PG_HOST,  # or your database host\n",
    "    'port': 5432          # default PostgreSQL port\n",
    "}"
   ]
  },
  {
   "cell_type": "code",
   "execution_count": 20,
   "metadata": {},
   "outputs": [
    {
     "name": "stdout",
     "output_type": "stream",
     "text": [
      "Connected to the database!\n"
     ]
    }
   ],
   "source": [
    "# Connect to the database\n",
    "try:\n",
    "    conn = psycopg2.connect(**db_config)\n",
    "    print(\"Connected to the database!\")\n",
    "except Exception as e:\n",
    "    print(f\"Unable to connect to the database: {e}\")\n"
   ]
  },
  {
   "cell_type": "code",
   "execution_count": 21,
   "metadata": {},
   "outputs": [],
   "source": [
    "# Create a cursor object to interact with the database\n",
    "cursor = conn.cursor()"
   ]
  },
  {
   "cell_type": "code",
   "execution_count": 25,
   "metadata": {},
   "outputs": [],
   "source": [
    "query = sql.SQL(f\"\"\"\n",
    "    INSERT INTO dimcustomer (customerbk, customername, phone, gender, age, city )\n",
    "    VALUES (%s, %s, %s, %s, %s, %s);\n",
    "\"\"\")"
   ]
  },
  {
   "cell_type": "code",
   "execution_count": 26,
   "metadata": {},
   "outputs": [],
   "source": [
    "def load(cursor, query, data):\n",
    "    for i, row in data.iterrows():\n",
    "\n",
    "        try:\n",
    "            cursor.execute(query, tuple(row))\n",
    "        except Exception as e:\n",
    "            conn.rollback()  # Rollback in case of error\n",
    "            print(f\"Error loading cutomer: {e}\")\n",
    "\n",
    "    cursor.execute('commit')\n",
    "    print(\"Data Loaded successfully!\")"
   ]
  },
  {
   "cell_type": "code",
   "execution_count": 27,
   "metadata": {},
   "outputs": [
    {
     "name": "stdout",
     "output_type": "stream",
     "text": [
      "Data Loaded successfully!\n"
     ]
    }
   ],
   "source": [
    "load(cursor, query, customers_df)"
   ]
  },
  {
   "cell_type": "code",
   "execution_count": 28,
   "metadata": {},
   "outputs": [
    {
     "name": "stdout",
     "output_type": "stream",
     "text": [
      "Connection closed.\n"
     ]
    }
   ],
   "source": [
    "# Close the cursor and connection\n",
    "cursor.close()\n",
    "conn.close()\n",
    "print(\"Connection closed.\")"
   ]
  },
  {
   "cell_type": "code",
   "execution_count": null,
   "metadata": {},
   "outputs": [],
   "source": []
  }
 ],
 "metadata": {
  "kernelspec": {
   "display_name": ".env",
   "language": "python",
   "name": "python3"
  },
  "language_info": {
   "codemirror_mode": {
    "name": "ipython",
    "version": 3
   },
   "file_extension": ".py",
   "mimetype": "text/x-python",
   "name": "python",
   "nbconvert_exporter": "python",
   "pygments_lexer": "ipython3",
   "version": "3.12.3"
  }
 },
 "nbformat": 4,
 "nbformat_minor": 2
}
