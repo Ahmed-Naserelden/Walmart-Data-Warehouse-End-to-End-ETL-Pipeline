{
 "cells": [
  {
   "cell_type": "code",
   "execution_count": 8,
   "metadata": {},
   "outputs": [],
   "source": [
    "import os\n",
    "import logging\n",
    "import pandas as pd\n",
    "import mysql.connector"
   ]
  },
  {
   "cell_type": "code",
   "execution_count": 9,
   "metadata": {},
   "outputs": [
    {
     "name": "stdout",
     "output_type": "stream",
     "text": [
      "Connected to MySQL successfully!\n"
     ]
    }
   ],
   "source": [
    "MYSQL_USERNAME=os.environ['MYSQL_USERNAME']\n",
    "MYSQL_PASSWORD=os.environ['MYSQL_PASSWORD']\n",
    "MYSQL_DATABASE=os.environ['MYSQL_DATABASE']\n",
    "MYSQL_HOST=os.environ['MYSQL_HOST']\n",
    "\n",
    "try:\n",
    "    # Establish connection\n",
    "    conn = mysql.connector.connect(\n",
    "        host=MYSQL_HOST,  # Change to your MySQL server\n",
    "        user=MYSQL_USERNAME,\n",
    "        password=MYSQL_PASSWORD,\n",
    "        database=MYSQL_DATABASE  # Optional: specify database\n",
    "    )\n",
    "\n",
    "    if conn.is_connected():\n",
    "        print(\"Connected to MySQL successfully!\")\n",
    "\n",
    "except mysql.connector.Error as e:\n",
    "    print(\"Error:\", e)"
   ]
  },
  {
   "cell_type": "code",
   "execution_count": 10,
   "metadata": {},
   "outputs": [],
   "source": [
    "# Create a cursor object\n",
    "cursor = conn.cursor()"
   ]
  },
  {
   "cell_type": "code",
   "execution_count": 11,
   "metadata": {},
   "outputs": [],
   "source": [
    "def extract(cursor, query):\n",
    "    # Execute a query\n",
    "    cursor.execute(query)\n",
    "    data = cursor.fetchall()\n",
    "    \n",
    "    # Get column names (metadata)\n",
    "    columns = [desc[0] for desc in cursor.description]\n",
    "\n",
    "    # Convert the data into a pandas DataFrame\n",
    "    df = pd.DataFrame(data, columns=columns)\n",
    "    \n",
    "    return df"
   ]
  },
  {
   "cell_type": "code",
   "execution_count": 12,
   "metadata": {},
   "outputs": [],
   "source": [
    "query=\"SELECT * FROM Store;\"\n",
    "store_df = extract(cursor, query)"
   ]
  },
  {
   "cell_type": "code",
   "execution_count": 13,
   "metadata": {},
   "outputs": [
    {
     "data": {
      "text/html": [
       "<div>\n",
       "<style scoped>\n",
       "    .dataframe tbody tr th:only-of-type {\n",
       "        vertical-align: middle;\n",
       "    }\n",
       "\n",
       "    .dataframe tbody tr th {\n",
       "        vertical-align: top;\n",
       "    }\n",
       "\n",
       "    .dataframe thead th {\n",
       "        text-align: right;\n",
       "    }\n",
       "</style>\n",
       "<table border=\"1\" class=\"dataframe\">\n",
       "  <thead>\n",
       "    <tr style=\"text-align: right;\">\n",
       "      <th></th>\n",
       "      <th>StoreID</th>\n",
       "      <th>Location</th>\n",
       "      <th>Size</th>\n",
       "      <th>ManagerID</th>\n",
       "    </tr>\n",
       "  </thead>\n",
       "  <tbody>\n",
       "    <tr>\n",
       "      <th>0</th>\n",
       "      <td>1</td>\n",
       "      <td>123 Main St, New York, NY</td>\n",
       "      <td>Large</td>\n",
       "      <td>1</td>\n",
       "    </tr>\n",
       "    <tr>\n",
       "      <th>1</th>\n",
       "      <td>2</td>\n",
       "      <td>456 Elm St, Los Angeles, CA</td>\n",
       "      <td>Medium</td>\n",
       "      <td>1</td>\n",
       "    </tr>\n",
       "    <tr>\n",
       "      <th>2</th>\n",
       "      <td>3</td>\n",
       "      <td>789 Maple St, Chicago, IL</td>\n",
       "      <td>Small</td>\n",
       "      <td>2</td>\n",
       "    </tr>\n",
       "    <tr>\n",
       "      <th>3</th>\n",
       "      <td>4</td>\n",
       "      <td>101 South St, Miami, FL</td>\n",
       "      <td>Large</td>\n",
       "      <td>6</td>\n",
       "    </tr>\n",
       "    <tr>\n",
       "      <th>4</th>\n",
       "      <td>5</td>\n",
       "      <td>202 North Ave, Seattle, WA</td>\n",
       "      <td>Medium</td>\n",
       "      <td>5</td>\n",
       "    </tr>\n",
       "    <tr>\n",
       "      <th>5</th>\n",
       "      <td>6</td>\n",
       "      <td>303 West Ave, Austin, TX</td>\n",
       "      <td>Small</td>\n",
       "      <td>4</td>\n",
       "    </tr>\n",
       "    <tr>\n",
       "      <th>6</th>\n",
       "      <td>7</td>\n",
       "      <td>404 East Rd, San Francisco, CA</td>\n",
       "      <td>Large</td>\n",
       "      <td>3</td>\n",
       "    </tr>\n",
       "    <tr>\n",
       "      <th>7</th>\n",
       "      <td>8</td>\n",
       "      <td>505 Central Blvd, Dallas, TX</td>\n",
       "      <td>Medium</td>\n",
       "      <td>7</td>\n",
       "    </tr>\n",
       "    <tr>\n",
       "      <th>8</th>\n",
       "      <td>9</td>\n",
       "      <td>606 Park St, Boston, MA</td>\n",
       "      <td>Small</td>\n",
       "      <td>8</td>\n",
       "    </tr>\n",
       "    <tr>\n",
       "      <th>9</th>\n",
       "      <td>10</td>\n",
       "      <td>707 Broadway, Denver, CO</td>\n",
       "      <td>Medium</td>\n",
       "      <td>1</td>\n",
       "    </tr>\n",
       "    <tr>\n",
       "      <th>10</th>\n",
       "      <td>11</td>\n",
       "      <td>808 Lake St, Minneapolis, MN</td>\n",
       "      <td>Small</td>\n",
       "      <td>2</td>\n",
       "    </tr>\n",
       "    <tr>\n",
       "      <th>11</th>\n",
       "      <td>12</td>\n",
       "      <td>909 Hill Rd, Atlanta, GA</td>\n",
       "      <td>Large</td>\n",
       "      <td>3</td>\n",
       "    </tr>\n",
       "    <tr>\n",
       "      <th>12</th>\n",
       "      <td>13</td>\n",
       "      <td>1010 Valley Ave, San Diego, CA</td>\n",
       "      <td>Medium</td>\n",
       "      <td>4</td>\n",
       "    </tr>\n",
       "    <tr>\n",
       "      <th>13</th>\n",
       "      <td>14</td>\n",
       "      <td>1111 Ocean Ave, Miami, FL</td>\n",
       "      <td>Small</td>\n",
       "      <td>5</td>\n",
       "    </tr>\n",
       "    <tr>\n",
       "      <th>14</th>\n",
       "      <td>15</td>\n",
       "      <td>1212 River Rd, Philadelphia, PA</td>\n",
       "      <td>Large</td>\n",
       "      <td>6</td>\n",
       "    </tr>\n",
       "    <tr>\n",
       "      <th>15</th>\n",
       "      <td>16</td>\n",
       "      <td>1313 Pine St, Phoenix, AZ</td>\n",
       "      <td>Medium</td>\n",
       "      <td>2</td>\n",
       "    </tr>\n",
       "    <tr>\n",
       "      <th>16</th>\n",
       "      <td>17</td>\n",
       "      <td>1414 Maple St, Portland, OR</td>\n",
       "      <td>Small</td>\n",
       "      <td>8</td>\n",
       "    </tr>\n",
       "    <tr>\n",
       "      <th>17</th>\n",
       "      <td>18</td>\n",
       "      <td>1515 Oak St, Las Vegas, NV</td>\n",
       "      <td>Large</td>\n",
       "      <td>1</td>\n",
       "    </tr>\n",
       "    <tr>\n",
       "      <th>18</th>\n",
       "      <td>19</td>\n",
       "      <td>Store 20</td>\n",
       "      <td>Small</td>\n",
       "      <td>2</td>\n",
       "    </tr>\n",
       "  </tbody>\n",
       "</table>\n",
       "</div>"
      ],
      "text/plain": [
       "    StoreID                         Location    Size  ManagerID\n",
       "0         1        123 Main St, New York, NY   Large          1\n",
       "1         2      456 Elm St, Los Angeles, CA  Medium          1\n",
       "2         3        789 Maple St, Chicago, IL   Small          2\n",
       "3         4          101 South St, Miami, FL   Large          6\n",
       "4         5       202 North Ave, Seattle, WA  Medium          5\n",
       "5         6         303 West Ave, Austin, TX   Small          4\n",
       "6         7   404 East Rd, San Francisco, CA   Large          3\n",
       "7         8     505 Central Blvd, Dallas, TX  Medium          7\n",
       "8         9          606 Park St, Boston, MA   Small          8\n",
       "9        10         707 Broadway, Denver, CO  Medium          1\n",
       "10       11     808 Lake St, Minneapolis, MN   Small          2\n",
       "11       12         909 Hill Rd, Atlanta, GA   Large          3\n",
       "12       13   1010 Valley Ave, San Diego, CA  Medium          4\n",
       "13       14        1111 Ocean Ave, Miami, FL   Small          5\n",
       "14       15  1212 River Rd, Philadelphia, PA   Large          6\n",
       "15       16        1313 Pine St, Phoenix, AZ  Medium          2\n",
       "16       17      1414 Maple St, Portland, OR   Small          8\n",
       "17       18       1515 Oak St, Las Vegas, NV   Large          1\n",
       "18       19                         Store 20   Small          2"
      ]
     },
     "execution_count": 13,
     "metadata": {},
     "output_type": "execute_result"
    }
   ],
   "source": [
    "store_df"
   ]
  },
  {
   "cell_type": "code",
   "execution_count": 14,
   "metadata": {},
   "outputs": [
    {
     "name": "stdout",
     "output_type": "stream",
     "text": [
      "Connection closed.\n"
     ]
    }
   ],
   "source": [
    "# Close the connection\n",
    "cursor.close()\n",
    "conn.close()\n",
    "print(\"Connection closed.\")"
   ]
  },
  {
   "cell_type": "code",
   "execution_count": 15,
   "metadata": {},
   "outputs": [],
   "source": [
    "import psycopg2\n",
    "from psycopg2 import sql"
   ]
  },
  {
   "cell_type": "code",
   "execution_count": 16,
   "metadata": {},
   "outputs": [
    {
     "name": "stdout",
     "output_type": "stream",
     "text": [
      "172.18.0.2 biruni P@ssw0rd walmart_dwh\n"
     ]
    }
   ],
   "source": [
    "PG_USERNAME=os.environ['PG_USERNAME']\n",
    "PG_PASSWORD=os.environ['PG_PASSWORD']\n",
    "PG_DATABASE=os.environ['PG_DATABASE']\n",
    "PG_HOST=os.environ['PG_HOST']\n",
    "\n",
    "print(PG_HOST, PG_USERNAME, PG_PASSWORD, PG_DATABASE)"
   ]
  },
  {
   "cell_type": "code",
   "execution_count": 17,
   "metadata": {},
   "outputs": [],
   "source": [
    "# Database connection parameters\n",
    "db_config = {\n",
    "    'dbname': PG_DATABASE,\n",
    "    'user': PG_USERNAME,\n",
    "    'password': PG_PASSWORD,\n",
    "    'host': PG_HOST,  # or your database host\n",
    "    'port': 5432          # default PostgreSQL port\n",
    "}"
   ]
  },
  {
   "cell_type": "code",
   "execution_count": 18,
   "metadata": {},
   "outputs": [
    {
     "name": "stdout",
     "output_type": "stream",
     "text": [
      "Connected to the database!\n"
     ]
    }
   ],
   "source": [
    "# Connect to the database\n",
    "try:\n",
    "    conn = psycopg2.connect(**db_config)\n",
    "    print(\"Connected to the database!\")\n",
    "except Exception as e:\n",
    "    print(f\"Unable to connect to the database: {e}\")\n"
   ]
  },
  {
   "cell_type": "code",
   "execution_count": 19,
   "metadata": {},
   "outputs": [],
   "source": [
    "# Create a cursor object to interact with the database\n",
    "cursor = conn.cursor()"
   ]
  },
  {
   "cell_type": "code",
   "execution_count": 20,
   "metadata": {},
   "outputs": [],
   "source": [
    "query = sql.SQL(f\"\"\"\n",
    "    INSERT INTO dimstore (storebk, location, size, managername)\n",
    "    VALUES (%s, %s, %s, %s);\n",
    "\"\"\")"
   ]
  },
  {
   "cell_type": "code",
   "execution_count": 21,
   "metadata": {},
   "outputs": [],
   "source": [
    "def load(cursor, query, data):\n",
    "    for i, row in data.iterrows():\n",
    "\n",
    "        try:\n",
    "            cursor.execute(query, tuple(row))\n",
    "        except Exception as e:\n",
    "            conn.rollback()  # Rollback in case of error\n",
    "            print(f\"Error loading store: {e}\")\n",
    "\n",
    "    cursor.execute('commit')\n",
    "    print(\"Data Loaded successfully!\")"
   ]
  },
  {
   "cell_type": "code",
   "execution_count": 23,
   "metadata": {},
   "outputs": [
    {
     "name": "stdout",
     "output_type": "stream",
     "text": [
      "Data Loaded successfully!\n"
     ]
    }
   ],
   "source": [
    "load(cursor, query, store_df)"
   ]
  },
  {
   "cell_type": "code",
   "execution_count": 24,
   "metadata": {},
   "outputs": [
    {
     "name": "stdout",
     "output_type": "stream",
     "text": [
      "Connection closed.\n"
     ]
    }
   ],
   "source": [
    "# Close the cursor and connection\n",
    "cursor.close()\n",
    "conn.close()\n",
    "print(\"Connection closed.\")"
   ]
  },
  {
   "cell_type": "code",
   "execution_count": null,
   "metadata": {},
   "outputs": [],
   "source": []
  }
 ],
 "metadata": {
  "kernelspec": {
   "display_name": ".env",
   "language": "python",
   "name": "python3"
  },
  "language_info": {
   "codemirror_mode": {
    "name": "ipython",
    "version": 3
   },
   "file_extension": ".py",
   "mimetype": "text/x-python",
   "name": "python",
   "nbconvert_exporter": "python",
   "pygments_lexer": "ipython3",
   "version": "3.12.3"
  }
 },
 "nbformat": 4,
 "nbformat_minor": 2
}
