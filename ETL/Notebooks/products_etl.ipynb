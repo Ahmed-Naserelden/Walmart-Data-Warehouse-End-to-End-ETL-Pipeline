{
 "cells": [
  {
   "cell_type": "code",
   "execution_count": 67,
   "metadata": {},
   "outputs": [],
   "source": [
    "import os\n",
    "import logging\n",
    "import pandas as pd\n",
    "import mysql.connector"
   ]
  },
  {
   "cell_type": "code",
   "execution_count": 68,
   "metadata": {},
   "outputs": [
    {
     "name": "stdout",
     "output_type": "stream",
     "text": [
      "Connected to MySQL successfully!\n"
     ]
    }
   ],
   "source": [
    "MYSQL_USERNAME=os.environ['MYSQL_USERNAME']\n",
    "MYSQL_PASSWORD=os.environ['MYSQL_PASSWORD']\n",
    "MYSQL_DATABASE=os.environ['MYSQL_DATABASE']\n",
    "MYSQL_HOST=os.environ['MYSQL_HOST']\n",
    "\n",
    "try:\n",
    "    # Establish connection\n",
    "    conn = mysql.connector.connect(\n",
    "        host=MYSQL_HOST,  # Change to your MySQL server\n",
    "        user=MYSQL_USERNAME,\n",
    "        password=MYSQL_PASSWORD,\n",
    "        database=MYSQL_DATABASE  # Optional: specify database\n",
    "    )\n",
    "\n",
    "    if conn.is_connected():\n",
    "        print(\"Connected to MySQL successfully!\")\n",
    "\n",
    "except mysql.connector.Error as e:\n",
    "    print(\"Error:\", e)"
   ]
  },
  {
   "cell_type": "code",
   "execution_count": 69,
   "metadata": {},
   "outputs": [],
   "source": [
    "# Create a cursor object\n",
    "cursor = conn.cursor()"
   ]
  },
  {
   "cell_type": "code",
   "execution_count": 70,
   "metadata": {},
   "outputs": [],
   "source": [
    "def extract(cursor, query):\n",
    "    # Execute a query\n",
    "    cursor.execute(query)\n",
    "    data = cursor.fetchall()\n",
    "    \n",
    "    # Get column names (metadata)\n",
    "    columns = [desc[0] for desc in cursor.description]\n",
    "\n",
    "    # Convert the data into a pandas DataFrame\n",
    "    df = pd.DataFrame(data, columns=columns)\n",
    "    \n",
    "    return df"
   ]
  },
  {
   "cell_type": "code",
   "execution_count": 77,
   "metadata": {},
   "outputs": [
    {
     "data": {
      "text/html": [
       "<div>\n",
       "<style scoped>\n",
       "    .dataframe tbody tr th:only-of-type {\n",
       "        vertical-align: middle;\n",
       "    }\n",
       "\n",
       "    .dataframe tbody tr th {\n",
       "        vertical-align: top;\n",
       "    }\n",
       "\n",
       "    .dataframe thead th {\n",
       "        text-align: right;\n",
       "    }\n",
       "</style>\n",
       "<table border=\"1\" class=\"dataframe\">\n",
       "  <thead>\n",
       "    <tr style=\"text-align: right;\">\n",
       "      <th></th>\n",
       "      <th>ProductID</th>\n",
       "      <th>ProductName</th>\n",
       "      <th>CategoryName</th>\n",
       "      <th>SubCategoryName</th>\n",
       "      <th>Price</th>\n",
       "      <th>ProductionDate</th>\n",
       "      <th>ExpirationDate</th>\n",
       "    </tr>\n",
       "  </thead>\n",
       "  <tbody>\n",
       "    <tr>\n",
       "      <th>0</th>\n",
       "      <td>1</td>\n",
       "      <td>Samsung Galaxy S21</td>\n",
       "      <td>Electronics</td>\n",
       "      <td>Smartphones</td>\n",
       "      <td>799.99</td>\n",
       "      <td>2021-01-05</td>\n",
       "      <td>None</td>\n",
       "    </tr>\n",
       "    <tr>\n",
       "      <th>1</th>\n",
       "      <td>2</td>\n",
       "      <td>Dell XPS 13</td>\n",
       "      <td>Electronics</td>\n",
       "      <td>Laptops</td>\n",
       "      <td>999.99</td>\n",
       "      <td>2020-10-10</td>\n",
       "      <td>None</td>\n",
       "    </tr>\n",
       "    <tr>\n",
       "      <th>2</th>\n",
       "      <td>3</td>\n",
       "      <td>Levi's 501 Jeans</td>\n",
       "      <td>Clothing</td>\n",
       "      <td>Men's Apparel</td>\n",
       "      <td>59.99</td>\n",
       "      <td>2021-07-01</td>\n",
       "      <td>None</td>\n",
       "    </tr>\n",
       "    <tr>\n",
       "      <th>3</th>\n",
       "      <td>4</td>\n",
       "      <td>Nike Women's Running Shoes</td>\n",
       "      <td>Clothing</td>\n",
       "      <td>Women's Apparel</td>\n",
       "      <td>89.99</td>\n",
       "      <td>2022-06-15</td>\n",
       "      <td>None</td>\n",
       "    </tr>\n",
       "    <tr>\n",
       "      <th>4</th>\n",
       "      <td>5</td>\n",
       "      <td>Oster Blender</td>\n",
       "      <td>Home Appliances</td>\n",
       "      <td>Kitchen Appliances</td>\n",
       "      <td>49.99</td>\n",
       "      <td>2020-09-20</td>\n",
       "      <td>None</td>\n",
       "    </tr>\n",
       "    <tr>\n",
       "      <th>5</th>\n",
       "      <td>6</td>\n",
       "      <td>Living Room Sofa</td>\n",
       "      <td>Furniture</td>\n",
       "      <td>Home Decor</td>\n",
       "      <td>499.99</td>\n",
       "      <td>2021-12-01</td>\n",
       "      <td>None</td>\n",
       "    </tr>\n",
       "    <tr>\n",
       "      <th>6</th>\n",
       "      <td>7</td>\n",
       "      <td>The Great Gatsby</td>\n",
       "      <td>Books</td>\n",
       "      <td>Fiction</td>\n",
       "      <td>15.99</td>\n",
       "      <td>2020-04-10</td>\n",
       "      <td>2024-04-10</td>\n",
       "    </tr>\n",
       "    <tr>\n",
       "      <th>7</th>\n",
       "      <td>8</td>\n",
       "      <td>The Lean Startup</td>\n",
       "      <td>Books</td>\n",
       "      <td>Non-Fiction</td>\n",
       "      <td>20.99</td>\n",
       "      <td>2020-01-10</td>\n",
       "      <td>2025-01-10</td>\n",
       "    </tr>\n",
       "    <tr>\n",
       "      <th>8</th>\n",
       "      <td>9</td>\n",
       "      <td>Uno Card Game</td>\n",
       "      <td>Toys</td>\n",
       "      <td>Board Games</td>\n",
       "      <td>19.99</td>\n",
       "      <td>2019-10-01</td>\n",
       "      <td>None</td>\n",
       "    </tr>\n",
       "    <tr>\n",
       "      <th>9</th>\n",
       "      <td>10</td>\n",
       "      <td>Camping Tent</td>\n",
       "      <td>Sporting Goods</td>\n",
       "      <td>Outdoor Equipment</td>\n",
       "      <td>120.00</td>\n",
       "      <td>2021-05-01</td>\n",
       "      <td>None</td>\n",
       "    </tr>\n",
       "    <tr>\n",
       "      <th>10</th>\n",
       "      <td>11</td>\n",
       "      <td>Apple iPhone 13</td>\n",
       "      <td>Electronics</td>\n",
       "      <td>Smartphones</td>\n",
       "      <td>899.99</td>\n",
       "      <td>2022-09-01</td>\n",
       "      <td>None</td>\n",
       "    </tr>\n",
       "    <tr>\n",
       "      <th>11</th>\n",
       "      <td>12</td>\n",
       "      <td>Sony 65\" 4K TV</td>\n",
       "      <td>Electronics</td>\n",
       "      <td>Laptops</td>\n",
       "      <td>1099.99</td>\n",
       "      <td>2021-05-10</td>\n",
       "      <td>None</td>\n",
       "    </tr>\n",
       "    <tr>\n",
       "      <th>12</th>\n",
       "      <td>13</td>\n",
       "      <td>Nike Men's Sports T-Shirt</td>\n",
       "      <td>Clothing</td>\n",
       "      <td>Men's Apparel</td>\n",
       "      <td>29.99</td>\n",
       "      <td>2020-11-15</td>\n",
       "      <td>None</td>\n",
       "    </tr>\n",
       "    <tr>\n",
       "      <th>13</th>\n",
       "      <td>14</td>\n",
       "      <td>Keurig Coffee Maker</td>\n",
       "      <td>Home Appliances</td>\n",
       "      <td>Kitchen Appliances</td>\n",
       "      <td>89.99</td>\n",
       "      <td>2021-08-20</td>\n",
       "      <td>None</td>\n",
       "    </tr>\n",
       "    <tr>\n",
       "      <th>14</th>\n",
       "      <td>15</td>\n",
       "      <td>Dining Table Set</td>\n",
       "      <td>Furniture</td>\n",
       "      <td>Home Decor</td>\n",
       "      <td>799.99</td>\n",
       "      <td>2022-04-01</td>\n",
       "      <td>None</td>\n",
       "    </tr>\n",
       "    <tr>\n",
       "      <th>15</th>\n",
       "      <td>16</td>\n",
       "      <td>Die Hard Blu-ray</td>\n",
       "      <td>Books</td>\n",
       "      <td>Fiction</td>\n",
       "      <td>12.99</td>\n",
       "      <td>2021-07-19</td>\n",
       "      <td>None</td>\n",
       "    </tr>\n",
       "    <tr>\n",
       "      <th>16</th>\n",
       "      <td>17</td>\n",
       "      <td>How to Win Friends and Influence People</td>\n",
       "      <td>Books</td>\n",
       "      <td>Non-Fiction</td>\n",
       "      <td>7.99</td>\n",
       "      <td>2021-09-01</td>\n",
       "      <td>None</td>\n",
       "    </tr>\n",
       "    <tr>\n",
       "      <th>17</th>\n",
       "      <td>18</td>\n",
       "      <td>Razor Electric Scooter</td>\n",
       "      <td>Toys</td>\n",
       "      <td>Board Games</td>\n",
       "      <td>299.99</td>\n",
       "      <td>2023-01-15</td>\n",
       "      <td>None</td>\n",
       "    </tr>\n",
       "    <tr>\n",
       "      <th>18</th>\n",
       "      <td>19</td>\n",
       "      <td>20-Piece Cookware Set</td>\n",
       "      <td>Home Appliances</td>\n",
       "      <td>Kitchen Appliances</td>\n",
       "      <td>149.99</td>\n",
       "      <td>2022-06-25</td>\n",
       "      <td>None</td>\n",
       "    </tr>\n",
       "    <tr>\n",
       "      <th>19</th>\n",
       "      <td>20</td>\n",
       "      <td>Teddy Bear</td>\n",
       "      <td>Toys</td>\n",
       "      <td>Outdoor Equipment</td>\n",
       "      <td>29.99</td>\n",
       "      <td>2023-03-30</td>\n",
       "      <td>None</td>\n",
       "    </tr>\n",
       "    <tr>\n",
       "      <th>20</th>\n",
       "      <td>21</td>\n",
       "      <td>Yoga Mat</td>\n",
       "      <td>Sporting Goods</td>\n",
       "      <td>Tablets</td>\n",
       "      <td>29.99</td>\n",
       "      <td>2022-11-07</td>\n",
       "      <td>None</td>\n",
       "    </tr>\n",
       "    <tr>\n",
       "      <th>21</th>\n",
       "      <td>22</td>\n",
       "      <td>Product 100</td>\n",
       "      <td>Electronics</td>\n",
       "      <td>Fiction</td>\n",
       "      <td>89.99</td>\n",
       "      <td>2023-08-01</td>\n",
       "      <td>None</td>\n",
       "    </tr>\n",
       "  </tbody>\n",
       "</table>\n",
       "</div>"
      ],
      "text/plain": [
       "    ProductID                              ProductName     CategoryName  \\\n",
       "0           1                       Samsung Galaxy S21      Electronics   \n",
       "1           2                              Dell XPS 13      Electronics   \n",
       "2           3                         Levi's 501 Jeans         Clothing   \n",
       "3           4               Nike Women's Running Shoes         Clothing   \n",
       "4           5                            Oster Blender  Home Appliances   \n",
       "5           6                         Living Room Sofa        Furniture   \n",
       "6           7                         The Great Gatsby            Books   \n",
       "7           8                         The Lean Startup            Books   \n",
       "8           9                            Uno Card Game             Toys   \n",
       "9          10                             Camping Tent   Sporting Goods   \n",
       "10         11                          Apple iPhone 13      Electronics   \n",
       "11         12                           Sony 65\" 4K TV      Electronics   \n",
       "12         13                Nike Men's Sports T-Shirt         Clothing   \n",
       "13         14                      Keurig Coffee Maker  Home Appliances   \n",
       "14         15                         Dining Table Set        Furniture   \n",
       "15         16                         Die Hard Blu-ray            Books   \n",
       "16         17  How to Win Friends and Influence People            Books   \n",
       "17         18                   Razor Electric Scooter             Toys   \n",
       "18         19                    20-Piece Cookware Set  Home Appliances   \n",
       "19         20                               Teddy Bear             Toys   \n",
       "20         21                                 Yoga Mat   Sporting Goods   \n",
       "21         22                              Product 100      Electronics   \n",
       "\n",
       "       SubCategoryName    Price ProductionDate ExpirationDate  \n",
       "0          Smartphones   799.99     2021-01-05           None  \n",
       "1              Laptops   999.99     2020-10-10           None  \n",
       "2        Men's Apparel    59.99     2021-07-01           None  \n",
       "3      Women's Apparel    89.99     2022-06-15           None  \n",
       "4   Kitchen Appliances    49.99     2020-09-20           None  \n",
       "5           Home Decor   499.99     2021-12-01           None  \n",
       "6              Fiction    15.99     2020-04-10     2024-04-10  \n",
       "7          Non-Fiction    20.99     2020-01-10     2025-01-10  \n",
       "8          Board Games    19.99     2019-10-01           None  \n",
       "9    Outdoor Equipment   120.00     2021-05-01           None  \n",
       "10         Smartphones   899.99     2022-09-01           None  \n",
       "11             Laptops  1099.99     2021-05-10           None  \n",
       "12       Men's Apparel    29.99     2020-11-15           None  \n",
       "13  Kitchen Appliances    89.99     2021-08-20           None  \n",
       "14          Home Decor   799.99     2022-04-01           None  \n",
       "15             Fiction    12.99     2021-07-19           None  \n",
       "16         Non-Fiction     7.99     2021-09-01           None  \n",
       "17         Board Games   299.99     2023-01-15           None  \n",
       "18  Kitchen Appliances   149.99     2022-06-25           None  \n",
       "19   Outdoor Equipment    29.99     2023-03-30           None  \n",
       "20             Tablets    29.99     2022-11-07           None  \n",
       "21             Fiction    89.99     2023-08-01           None  "
      ]
     },
     "execution_count": 77,
     "metadata": {},
     "output_type": "execute_result"
    }
   ],
   "source": [
    "query=\"\"\"\n",
    "SELECT p.ProductID, p.ProductName, pc.CategoryName, sc.SubCategoryName, p.Price, p.ProductionDate, p.ExpirationDate\n",
    "FROM Product p\n",
    "JOIN ProductCategory pc\n",
    "ON p.CategoryID = pc.CategoryID\n",
    "JOIN ProductSubcategory sc\n",
    "ON p.SubcategoryID = sc.SubcategoryID;\n",
    "\"\"\"\n",
    "products_df = extract(cursor, query)\n",
    "products_df"
   ]
  },
  {
   "cell_type": "code",
   "execution_count": 78,
   "metadata": {},
   "outputs": [
    {
     "name": "stdout",
     "output_type": "stream",
     "text": [
      "Connection closed.\n"
     ]
    }
   ],
   "source": [
    "# Close the connection\n",
    "cursor.close()\n",
    "conn.close()\n",
    "print(\"Connection closed.\")"
   ]
  },
  {
   "cell_type": "code",
   "execution_count": 79,
   "metadata": {},
   "outputs": [],
   "source": [
    "import psycopg2\n",
    "from psycopg2 import sql"
   ]
  },
  {
   "cell_type": "code",
   "execution_count": 80,
   "metadata": {},
   "outputs": [
    {
     "name": "stdout",
     "output_type": "stream",
     "text": [
      "172.18.0.2 biruni P@ssw0rd walmart_dwh\n"
     ]
    }
   ],
   "source": [
    "PG_USERNAME=os.environ['PG_USERNAME']\n",
    "PG_PASSWORD=os.environ['PG_PASSWORD']\n",
    "PG_DATABASE=os.environ['PG_DATABASE']\n",
    "PG_HOST=os.environ['PG_HOST']\n",
    "\n",
    "print(PG_HOST, PG_USERNAME, PG_PASSWORD, PG_DATABASE)"
   ]
  },
  {
   "cell_type": "code",
   "execution_count": 81,
   "metadata": {},
   "outputs": [],
   "source": [
    "# Database connection parameters\n",
    "db_config = {\n",
    "    'dbname': PG_DATABASE,\n",
    "    'user': PG_USERNAME,\n",
    "    'password': PG_PASSWORD,\n",
    "    'host': PG_HOST,  # or your database host\n",
    "    'port': 5432          # default PostgreSQL port\n",
    "}"
   ]
  },
  {
   "cell_type": "code",
   "execution_count": 82,
   "metadata": {},
   "outputs": [
    {
     "name": "stdout",
     "output_type": "stream",
     "text": [
      "Connected to the database!\n"
     ]
    }
   ],
   "source": [
    "# Connect to the database\n",
    "try:\n",
    "    conn = psycopg2.connect(**db_config)\n",
    "    print(\"Connected to the database!\")\n",
    "except Exception as e:\n",
    "    print(f\"Unable to connect to the database: {e}\")\n"
   ]
  },
  {
   "cell_type": "code",
   "execution_count": 83,
   "metadata": {},
   "outputs": [],
   "source": [
    "# Create a cursor object to interact with the database\n",
    "cursor = conn.cursor()"
   ]
  },
  {
   "cell_type": "code",
   "execution_count": 84,
   "metadata": {},
   "outputs": [],
   "source": [
    "query = sql.SQL(f\"\"\"\n",
    "    select * from dimproduct;\n",
    "\"\"\")"
   ]
  },
  {
   "cell_type": "code",
   "execution_count": 85,
   "metadata": {},
   "outputs": [
    {
     "data": {
      "text/plain": [
       "['productsk',\n",
       " 'productbk',\n",
       " 'productname',\n",
       " 'categoryname',\n",
       " 'subcategoryname',\n",
       " 'price',\n",
       " 'productiondate',\n",
       " 'expirationdate']"
      ]
     },
     "execution_count": 85,
     "metadata": {},
     "output_type": "execute_result"
    }
   ],
   "source": [
    "cursor.execute(query)\n",
    "columns = [desc[0] for desc in cursor.description]\n",
    "columns"
   ]
  },
  {
   "cell_type": "code",
   "execution_count": 86,
   "metadata": {},
   "outputs": [],
   "source": [
    "query = sql.SQL(f\"\"\"\n",
    "    INSERT INTO dimproduct (productbk, productname, categoryname, subcategoryname, price, productiondate, expirationdate)\n",
    "    VALUES (%s, %s, %s, %s, %s, %s, %s);\n",
    "\"\"\")"
   ]
  },
  {
   "cell_type": "code",
   "execution_count": 87,
   "metadata": {},
   "outputs": [],
   "source": [
    "def load(cursor, query, data):\n",
    "    for i, row in data.iterrows():\n",
    "\n",
    "        try:\n",
    "            cursor.execute(query, tuple(row))\n",
    "        except Exception as e:\n",
    "            conn.rollback()  # Rollback in case of error\n",
    "            print(f\"Error loading product: {e}\")\n",
    "\n",
    "    cursor.execute('commit')\n",
    "    print(\"Data Loaded successfully!\")"
   ]
  },
  {
   "cell_type": "code",
   "execution_count": 88,
   "metadata": {},
   "outputs": [
    {
     "name": "stdout",
     "output_type": "stream",
     "text": [
      "Data Loaded successfully!\n"
     ]
    }
   ],
   "source": [
    "load(cursor, query, products_df)"
   ]
  },
  {
   "cell_type": "code",
   "execution_count": 89,
   "metadata": {},
   "outputs": [
    {
     "name": "stdout",
     "output_type": "stream",
     "text": [
      "Connection closed.\n"
     ]
    }
   ],
   "source": [
    "# Close the cursor and connection\n",
    "cursor.close()\n",
    "conn.close()\n",
    "print(\"Connection closed.\")"
   ]
  },
  {
   "cell_type": "code",
   "execution_count": null,
   "metadata": {},
   "outputs": [],
   "source": []
  }
 ],
 "metadata": {
  "kernelspec": {
   "display_name": ".env",
   "language": "python",
   "name": "python3"
  },
  "language_info": {
   "codemirror_mode": {
    "name": "ipython",
    "version": 3
   },
   "file_extension": ".py",
   "mimetype": "text/x-python",
   "name": "python",
   "nbconvert_exporter": "python",
   "pygments_lexer": "ipython3",
   "version": "3.12.3"
  }
 },
 "nbformat": 4,
 "nbformat_minor": 2
}
