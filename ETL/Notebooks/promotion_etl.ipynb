{
 "cells": [
  {
   "cell_type": "code",
   "execution_count": 1,
   "metadata": {},
   "outputs": [],
   "source": [
    "import os\n",
    "import logging\n",
    "import pandas as pd\n",
    "import mysql.connector"
   ]
  },
  {
   "cell_type": "code",
   "execution_count": 3,
   "metadata": {},
   "outputs": [
    {
     "name": "stdout",
     "output_type": "stream",
     "text": [
      "Connected to MySQL successfully!\n"
     ]
    }
   ],
   "source": [
    "MYSQL_USERNAME=os.environ['MYSQL_USERNAME']\n",
    "MYSQL_PASSWORD=os.environ['MYSQL_PASSWORD']\n",
    "MYSQL_DATABASE=os.environ['MYSQL_DATABASE']\n",
    "MYSQL_HOST=os.environ['MYSQL_HOST']\n",
    "\n",
    "try:\n",
    "    # Establish connection\n",
    "    conn = mysql.connector.connect(\n",
    "        host=MYSQL_HOST,  # Change to your MySQL server\n",
    "        user=MYSQL_USERNAME,\n",
    "        password=MYSQL_PASSWORD,\n",
    "        database=MYSQL_DATABASE  # Optional: specify database\n",
    "    )\n",
    "\n",
    "    if conn.is_connected():\n",
    "        print(\"Connected to MySQL successfully!\")\n",
    "\n",
    "except mysql.connector.Error as e:\n",
    "    print(\"Error:\", e)"
   ]
  },
  {
   "cell_type": "code",
   "execution_count": 4,
   "metadata": {},
   "outputs": [],
   "source": [
    "# Create a cursor object\n",
    "cursor = conn.cursor()"
   ]
  },
  {
   "cell_type": "code",
   "execution_count": 5,
   "metadata": {},
   "outputs": [],
   "source": [
    "def extract(cursor, query):\n",
    "    # Execute a query\n",
    "    cursor.execute(query)\n",
    "    data = cursor.fetchall()\n",
    "    \n",
    "    # Get column names (metadata)\n",
    "    columns = [desc[0] for desc in cursor.description]\n",
    "\n",
    "    # Convert the data into a pandas DataFrame\n",
    "    df = pd.DataFrame(data, columns=columns)\n",
    "    \n",
    "    return df"
   ]
  },
  {
   "cell_type": "code",
   "execution_count": 8,
   "metadata": {},
   "outputs": [],
   "source": [
    "query=\"SELECT * FROM Promotion;\"\n",
    "promotion_df = extract(cursor, query)"
   ]
  },
  {
   "cell_type": "code",
   "execution_count": 9,
   "metadata": {},
   "outputs": [
    {
     "data": {
      "text/html": [
       "<div>\n",
       "<style scoped>\n",
       "    .dataframe tbody tr th:only-of-type {\n",
       "        vertical-align: middle;\n",
       "    }\n",
       "\n",
       "    .dataframe tbody tr th {\n",
       "        vertical-align: top;\n",
       "    }\n",
       "\n",
       "    .dataframe thead th {\n",
       "        text-align: right;\n",
       "    }\n",
       "</style>\n",
       "<table border=\"1\" class=\"dataframe\">\n",
       "  <thead>\n",
       "    <tr style=\"text-align: right;\">\n",
       "      <th></th>\n",
       "      <th>PromotionID</th>\n",
       "      <th>PromotionName</th>\n",
       "      <th>Type</th>\n",
       "      <th>StartDate</th>\n",
       "      <th>EndDate</th>\n",
       "    </tr>\n",
       "  </thead>\n",
       "  <tbody>\n",
       "    <tr>\n",
       "      <th>0</th>\n",
       "      <td>1</td>\n",
       "      <td>Summer Sale</td>\n",
       "      <td>Discount</td>\n",
       "      <td>2023-06-01</td>\n",
       "      <td>2023-09-01</td>\n",
       "    </tr>\n",
       "    <tr>\n",
       "      <th>1</th>\n",
       "      <td>2</td>\n",
       "      <td>Holiday Special</td>\n",
       "      <td>Bundle</td>\n",
       "      <td>2022-12-01</td>\n",
       "      <td>2023-12-31</td>\n",
       "    </tr>\n",
       "    <tr>\n",
       "      <th>2</th>\n",
       "      <td>3</td>\n",
       "      <td>Back to School</td>\n",
       "      <td>Discount</td>\n",
       "      <td>2023-08-01</td>\n",
       "      <td>2023-09-15</td>\n",
       "    </tr>\n",
       "    <tr>\n",
       "      <th>3</th>\n",
       "      <td>4</td>\n",
       "      <td>Spring Clearance</td>\n",
       "      <td>Clearance</td>\n",
       "      <td>2023-03-01</td>\n",
       "      <td>2023-04-30</td>\n",
       "    </tr>\n",
       "    <tr>\n",
       "      <th>4</th>\n",
       "      <td>5</td>\n",
       "      <td>Weekend Flash Sale</td>\n",
       "      <td>Flash</td>\n",
       "      <td>2023-07-15</td>\n",
       "      <td>2023-07-16</td>\n",
       "    </tr>\n",
       "    <tr>\n",
       "      <th>5</th>\n",
       "      <td>6</td>\n",
       "      <td>Black Friday</td>\n",
       "      <td>Discount</td>\n",
       "      <td>2023-11-24</td>\n",
       "      <td>2023-11-25</td>\n",
       "    </tr>\n",
       "    <tr>\n",
       "      <th>6</th>\n",
       "      <td>7</td>\n",
       "      <td>Cyber Monday</td>\n",
       "      <td>Discount</td>\n",
       "      <td>2023-11-27</td>\n",
       "      <td>2023-11-27</td>\n",
       "    </tr>\n",
       "    <tr>\n",
       "      <th>7</th>\n",
       "      <td>8</td>\n",
       "      <td>New Year Special</td>\n",
       "      <td>Bundle</td>\n",
       "      <td>2023-12-31</td>\n",
       "      <td>2024-01-01</td>\n",
       "    </tr>\n",
       "    <tr>\n",
       "      <th>8</th>\n",
       "      <td>9</td>\n",
       "      <td>Valentine's Day Offer</td>\n",
       "      <td>Discount</td>\n",
       "      <td>2023-02-01</td>\n",
       "      <td>2023-02-14</td>\n",
       "    </tr>\n",
       "    <tr>\n",
       "      <th>9</th>\n",
       "      <td>10</td>\n",
       "      <td>Easter Sale</td>\n",
       "      <td>Discount</td>\n",
       "      <td>2023-04-01</td>\n",
       "      <td>2023-04-15</td>\n",
       "    </tr>\n",
       "    <tr>\n",
       "      <th>10</th>\n",
       "      <td>11</td>\n",
       "      <td>Labor Day Weekend</td>\n",
       "      <td>Discount</td>\n",
       "      <td>2023-09-01</td>\n",
       "      <td>2023-09-05</td>\n",
       "    </tr>\n",
       "    <tr>\n",
       "      <th>11</th>\n",
       "      <td>12</td>\n",
       "      <td>Memorial Day Sale</td>\n",
       "      <td>Discount</td>\n",
       "      <td>2023-05-25</td>\n",
       "      <td>2023-05-31</td>\n",
       "    </tr>\n",
       "    <tr>\n",
       "      <th>12</th>\n",
       "      <td>13</td>\n",
       "      <td>Anniversary Sale</td>\n",
       "      <td>Bundle</td>\n",
       "      <td>2023-10-01</td>\n",
       "      <td>2023-10-31</td>\n",
       "    </tr>\n",
       "    <tr>\n",
       "      <th>13</th>\n",
       "      <td>14</td>\n",
       "      <td>Fall Clearance</td>\n",
       "      <td>Clearance</td>\n",
       "      <td>2023-09-01</td>\n",
       "      <td>2023-09-30</td>\n",
       "    </tr>\n",
       "    <tr>\n",
       "      <th>14</th>\n",
       "      <td>15</td>\n",
       "      <td>Weekend Deal</td>\n",
       "      <td>Discount</td>\n",
       "      <td>2023-07-05</td>\n",
       "      <td>2023-07-06</td>\n",
       "    </tr>\n",
       "    <tr>\n",
       "      <th>15</th>\n",
       "      <td>16</td>\n",
       "      <td>Clearance Event</td>\n",
       "      <td>Clearance</td>\n",
       "      <td>2023-03-15</td>\n",
       "      <td>2023-03-30</td>\n",
       "    </tr>\n",
       "    <tr>\n",
       "      <th>16</th>\n",
       "      <td>17</td>\n",
       "      <td>Student Discount</td>\n",
       "      <td>Discount</td>\n",
       "      <td>2023-07-01</td>\n",
       "      <td>2023-08-31</td>\n",
       "    </tr>\n",
       "    <tr>\n",
       "      <th>17</th>\n",
       "      <td>18</td>\n",
       "      <td>25% Off Electronics</td>\n",
       "      <td>Discount</td>\n",
       "      <td>2023-11-01</td>\n",
       "      <td>2023-11-30</td>\n",
       "    </tr>\n",
       "    <tr>\n",
       "      <th>18</th>\n",
       "      <td>19</td>\n",
       "      <td>Winter Wonderland Sale</td>\n",
       "      <td>Bundle</td>\n",
       "      <td>2023-12-01</td>\n",
       "      <td>2023-12-31</td>\n",
       "    </tr>\n",
       "    <tr>\n",
       "      <th>19</th>\n",
       "      <td>20</td>\n",
       "      <td>Flash Weekend Sale</td>\n",
       "      <td>Flash</td>\n",
       "      <td>2023-08-15</td>\n",
       "      <td>2023-08-16</td>\n",
       "    </tr>\n",
       "  </tbody>\n",
       "</table>\n",
       "</div>"
      ],
      "text/plain": [
       "    PromotionID           PromotionName       Type   StartDate     EndDate\n",
       "0             1             Summer Sale   Discount  2023-06-01  2023-09-01\n",
       "1             2         Holiday Special     Bundle  2022-12-01  2023-12-31\n",
       "2             3          Back to School   Discount  2023-08-01  2023-09-15\n",
       "3             4        Spring Clearance  Clearance  2023-03-01  2023-04-30\n",
       "4             5      Weekend Flash Sale      Flash  2023-07-15  2023-07-16\n",
       "5             6            Black Friday   Discount  2023-11-24  2023-11-25\n",
       "6             7            Cyber Monday   Discount  2023-11-27  2023-11-27\n",
       "7             8        New Year Special     Bundle  2023-12-31  2024-01-01\n",
       "8             9   Valentine's Day Offer   Discount  2023-02-01  2023-02-14\n",
       "9            10             Easter Sale   Discount  2023-04-01  2023-04-15\n",
       "10           11       Labor Day Weekend   Discount  2023-09-01  2023-09-05\n",
       "11           12       Memorial Day Sale   Discount  2023-05-25  2023-05-31\n",
       "12           13        Anniversary Sale     Bundle  2023-10-01  2023-10-31\n",
       "13           14          Fall Clearance  Clearance  2023-09-01  2023-09-30\n",
       "14           15            Weekend Deal   Discount  2023-07-05  2023-07-06\n",
       "15           16         Clearance Event  Clearance  2023-03-15  2023-03-30\n",
       "16           17        Student Discount   Discount  2023-07-01  2023-08-31\n",
       "17           18     25% Off Electronics   Discount  2023-11-01  2023-11-30\n",
       "18           19  Winter Wonderland Sale     Bundle  2023-12-01  2023-12-31\n",
       "19           20      Flash Weekend Sale      Flash  2023-08-15  2023-08-16"
      ]
     },
     "execution_count": 9,
     "metadata": {},
     "output_type": "execute_result"
    }
   ],
   "source": [
    "promotion_df"
   ]
  },
  {
   "cell_type": "code",
   "execution_count": 10,
   "metadata": {},
   "outputs": [
    {
     "name": "stdout",
     "output_type": "stream",
     "text": [
      "Connection closed.\n"
     ]
    }
   ],
   "source": [
    "# Close the connection\n",
    "cursor.close()\n",
    "conn.close()\n",
    "print(\"Connection closed.\")"
   ]
  },
  {
   "cell_type": "code",
   "execution_count": 11,
   "metadata": {},
   "outputs": [],
   "source": [
    "import psycopg2\n",
    "from psycopg2 import sql"
   ]
  },
  {
   "cell_type": "code",
   "execution_count": 12,
   "metadata": {},
   "outputs": [
    {
     "name": "stdout",
     "output_type": "stream",
     "text": [
      "172.18.0.2 biruni P@ssw0rd walmart_dwh\n"
     ]
    }
   ],
   "source": [
    "PG_USERNAME=os.environ['PG_USERNAME']\n",
    "PG_PASSWORD=os.environ['PG_PASSWORD']\n",
    "PG_DATABASE=os.environ['PG_DATABASE']\n",
    "PG_HOST=os.environ['PG_HOST']\n",
    "\n",
    "print(PG_HOST, PG_USERNAME, PG_PASSWORD, PG_DATABASE)"
   ]
  },
  {
   "cell_type": "code",
   "execution_count": 13,
   "metadata": {},
   "outputs": [],
   "source": [
    "# Database connection parameters\n",
    "db_config = {\n",
    "    'dbname': PG_DATABASE,\n",
    "    'user': PG_USERNAME,\n",
    "    'password': PG_PASSWORD,\n",
    "    'host': PG_HOST,  # or your database host\n",
    "    'port': 5432          # default PostgreSQL port\n",
    "}"
   ]
  },
  {
   "cell_type": "code",
   "execution_count": 14,
   "metadata": {},
   "outputs": [
    {
     "name": "stdout",
     "output_type": "stream",
     "text": [
      "Connected to the database!\n"
     ]
    }
   ],
   "source": [
    "# Connect to the database\n",
    "try:\n",
    "    conn = psycopg2.connect(**db_config)\n",
    "    print(\"Connected to the database!\")\n",
    "except Exception as e:\n",
    "    print(f\"Unable to connect to the database: {e}\")\n"
   ]
  },
  {
   "cell_type": "code",
   "execution_count": 15,
   "metadata": {},
   "outputs": [],
   "source": [
    "# Create a cursor object to interact with the database\n",
    "cursor = conn.cursor()"
   ]
  },
  {
   "cell_type": "code",
   "execution_count": 19,
   "metadata": {},
   "outputs": [],
   "source": [
    "query = sql.SQL(f\"\"\"\n",
    "    INSERT INTO dimpromotion (promotionbk, promotionname, type, startdate, enddate)\n",
    "    VALUES (%s, %s, %s, %s, %s);\n",
    "\"\"\")"
   ]
  },
  {
   "cell_type": "code",
   "execution_count": 20,
   "metadata": {},
   "outputs": [],
   "source": [
    "def load(cursor, query, data):\n",
    "    for i, row in data.iterrows():\n",
    "\n",
    "        try:\n",
    "            cursor.execute(query, tuple(row))\n",
    "        except Exception as e:\n",
    "            conn.rollback()  # Rollback in case of error\n",
    "            print(f\"Error loading employee: {e}\")\n",
    "\n",
    "    cursor.execute('commit')\n",
    "    print(\"Data Loaded successfully!\")"
   ]
  },
  {
   "cell_type": "code",
   "execution_count": 21,
   "metadata": {},
   "outputs": [
    {
     "name": "stdout",
     "output_type": "stream",
     "text": [
      "Data Loaded successfully!\n"
     ]
    }
   ],
   "source": [
    "load(cursor, query, employees_df)"
   ]
  },
  {
   "cell_type": "code",
   "execution_count": 22,
   "metadata": {},
   "outputs": [
    {
     "name": "stdout",
     "output_type": "stream",
     "text": [
      "Connection closed.\n"
     ]
    }
   ],
   "source": [
    "# Close the cursor and connection\n",
    "cursor.close()\n",
    "conn.close()\n",
    "print(\"Connection closed.\")"
   ]
  },
  {
   "cell_type": "code",
   "execution_count": null,
   "metadata": {},
   "outputs": [],
   "source": []
  }
 ],
 "metadata": {
  "kernelspec": {
   "display_name": ".env",
   "language": "python",
   "name": "python3"
  },
  "language_info": {
   "codemirror_mode": {
    "name": "ipython",
    "version": 3
   },
   "file_extension": ".py",
   "mimetype": "text/x-python",
   "name": "python",
   "nbconvert_exporter": "python",
   "pygments_lexer": "ipython3",
   "version": "3.12.3"
  }
 },
 "nbformat": 4,
 "nbformat_minor": 2
}
